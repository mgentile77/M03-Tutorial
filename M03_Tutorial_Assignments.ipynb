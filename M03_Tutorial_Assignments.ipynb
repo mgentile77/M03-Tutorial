{
 "cells": [
  {
   "cell_type": "markdown",
   "metadata": {},
   "source": [
    "Michael Gentile\n",
    "Tutorial Assignment\n",
    "11/11/23\n",
    "F.Liu"
   ]
  },
  {
   "cell_type": "markdown",
   "metadata": {},
   "source": [
    "Sorting Arrays"
   ]
  },
  {
   "cell_type": "code",
   "execution_count": 11,
   "metadata": {},
   "outputs": [
    {
     "name": "stdout",
     "output_type": "stream",
     "text": [
      "[0, 1, 1, 2, 2]\n"
     ]
    }
   ],
   "source": [
    "import random as ran\n",
    "class Solution:\n",
    "    def __init__(self):\n",
    "        pass\n",
    "        \n",
    "    def AscSort(numberLst):\n",
    "        numberLst.sort()\n",
    "        return numberLst\n",
    "    \n",
    "class  CreateArray:\n",
    "    def __init__(self,lownum = 0, highnum = 2):\n",
    "        self.lownum = lownum\n",
    "        self.highnum = highnum\n",
    "        \n",
    "    def createArray(self,x):\n",
    "        __numberLst = []\n",
    "        for i in range(x):\n",
    "            __numberLst.append(ran.randint(self.lownum, self.highnum))\n",
    "        return __numberLst\n",
    "        \n",
    "            \n",
    "\n",
    "howMany = int(input('How many numbers would you like?'))\n",
    "array = CreateArray().createArray(howMany)\n",
    "print(Solution.AscSort(array))"
   ]
  },
  {
   "cell_type": "markdown",
   "metadata": {},
   "source": [
    "Find index"
   ]
  },
  {
   "cell_type": "code",
   "execution_count": 14,
   "metadata": {},
   "outputs": [
    {
     "name": "stdout",
     "output_type": "stream",
     "text": [
      "30\n"
     ]
    }
   ],
   "source": [
    "howMany = int(input('How many numbers would you like?: '))\n",
    "highnum = int(input('What is the largest number you\\'d like in the list?: '))\n",
    "indexToFind = int(input('What location would you like me to find the number at?: '))\n",
    "array = CreateArray(highnum=highnum).createArray(howMany)\n",
    "print(array[indexToFind])"
   ]
  }
 ],
 "metadata": {
  "kernelspec": {
   "display_name": "Python 3",
   "language": "python",
   "name": "python3"
  },
  "language_info": {
   "codemirror_mode": {
    "name": "ipython",
    "version": 3
   },
   "file_extension": ".py",
   "mimetype": "text/x-python",
   "name": "python",
   "nbconvert_exporter": "python",
   "pygments_lexer": "ipython3",
   "version": "3.11.2"
  }
 },
 "nbformat": 4,
 "nbformat_minor": 2
}
