{
 "cells": [
  {
   "cell_type": "markdown",
   "metadata": {},
   "source": [
    "Michael Gentile\n",
    "Tutorial Assignment\n",
    "11/11/23\n",
    "F.Liu"
   ]
  },
  {
   "cell_type": "markdown",
   "metadata": {},
   "source": [
    "Sorting Arrays"
   ]
  },
  {
   "cell_type": "code",
   "execution_count": 72,
   "metadata": {},
   "outputs": [
    {
     "name": "stdout",
     "output_type": "stream",
     "text": [
      "[0, 0, 0, 1, 1, 1, 1, 2, 2, 2, 2, 2]\n"
     ]
    }
   ],
   "source": [
    "import random as ran\n",
    "class Solution:\n",
    "    def __init__(self):\n",
    "        pass\n",
    "        \n",
    "    def AscSort(self, arr):\n",
    "        self.array = arr\n",
    "        self.array.sort()\n",
    "        return self.array\n",
    "    \n",
    "    def binary_search(self, arr, key):\n",
    "        __high = len(arr)\n",
    "        __low = 0\n",
    "        if key in arr and __high >= __low:\n",
    "            while True:\n",
    "                mid = (__high + __low) // 2\n",
    "                if arr[mid] == key:\n",
    "                    return mid\n",
    "                elif arr[mid] > key:\n",
    "                    mid = mid+1\n",
    "                else:\n",
    "                    mid = mid-1\n",
    "        else:\n",
    "            return -1\n",
    "    \n",
    "class  CreateArray:\n",
    "    def __init__(self):\n",
    "        pass\n",
    "        \n",
    "    def createArray(self,x, lownum = 0, highnum = 2):\n",
    "        __numberLst = []\n",
    "        for i in range(x):\n",
    "            __numberLst.append(ran.randint(lownum, highnum))\n",
    "        return __numberLst\n",
    "        \n",
    "            \n",
    "\n",
    "howMany = int(input('How many numbers would you like?'))\n",
    "array = CreateArray().createArray(howMany)\n",
    "print(Solution().AscSort(array))"
   ]
  },
  {
   "cell_type": "markdown",
   "metadata": {},
   "source": [
    "Find index"
   ]
  },
  {
   "cell_type": "code",
   "execution_count": 74,
   "metadata": {},
   "outputs": [
    {
     "name": "stdout",
     "output_type": "stream",
     "text": [
      "[0, 4, 5, 6, 7, 7, 9, 9, 10, 11, 13, 30, 37, 37, 37, 37, 40, 45, 49, 52, 62, 72, 78, 78, 95]\n"
     ]
    },
    {
     "data": {
      "text/plain": [
       "12"
      ]
     },
     "execution_count": 74,
     "metadata": {},
     "output_type": "execute_result"
    }
   ],
   "source": [
    "howMany = int(input('How many numbers would you like?: '))\n",
    "highnum = int(input('What is the largest number you\\'d like in the list?: '))\n",
    "array = CreateArray().createArray(howMany,highnum=highnum)\n",
    "array = Solution().AscSort(array)\n",
    "indexToFind = int(input('What number in the list would you like me to find the index?: '))\n",
    "Solution().binary_search(array, indexToFind)\n"
   ]
  }
 ],
 "metadata": {
  "kernelspec": {
   "display_name": "Python 3",
   "language": "python",
   "name": "python3"
  },
  "language_info": {
   "codemirror_mode": {
    "name": "ipython",
    "version": 3
   },
   "file_extension": ".py",
   "mimetype": "text/x-python",
   "name": "python",
   "nbconvert_exporter": "python",
   "pygments_lexer": "ipython3",
   "version": "3.11.2"
  }
 },
 "nbformat": 4,
 "nbformat_minor": 2
}
