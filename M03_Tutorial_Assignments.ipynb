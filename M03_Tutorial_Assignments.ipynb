{
 "cells": [
  {
   "cell_type": "markdown",
   "metadata": {},
   "source": [
    "Michael Gentile\n",
    "Tutorial Assignment\n",
    "11/11/23\n",
    "F.Liu"
   ]
  },
  {
   "cell_type": "markdown",
   "metadata": {},
   "source": [
    "Sorting Arrays"
   ]
  },
  {
   "cell_type": "code",
   "execution_count": 53,
   "metadata": {},
   "outputs": [
    {
     "name": "stdout",
     "output_type": "stream",
     "text": [
      "[0, 0, 0, 1, 2, 2, 2, 2]\n"
     ]
    }
   ],
   "source": [
    "import random as ran\n",
    "class Solution:\n",
    "    def __init__(self):\n",
    "        pass\n",
    "        \n",
    "    def AscSort(self, arr):\n",
    "        self.array = arr\n",
    "        self.array.sort()\n",
    "        return self.array\n",
    "    \n",
    "    def binary_search(self, arr, key):\n",
    "        __high = len(arr)\n",
    "        __low = 0\n",
    "        if key in arr:\n",
    "            print (arr.value(key))\n",
    "            if __high >= __low:\n",
    "                while True:\n",
    "                    mid = (__high + __low) // 2\n",
    "                    if arr[mid] == key:\n",
    "                        return mid\n",
    "                    elif arr[mid] > key:\n",
    "                        mid = mid+1\n",
    "                    else:\n",
    "                        mid = mid-1\n",
    "            else:\n",
    "                return -1\n",
    "        else:\n",
    "            return -1\n",
    "    \n",
    "class  CreateArray:\n",
    "    def __init__(self):\n",
    "        pass\n",
    "        \n",
    "    def createArray(self,x, lownum = 0, highnum = 2):\n",
    "        __numberLst = []\n",
    "        for i in range(x):\n",
    "            __numberLst.append(ran.randint(lownum, highnum))\n",
    "        return __numberLst\n",
    "        \n",
    "            \n",
    "\n",
    "howMany = int(input('How many numbers would you like?'))\n",
    "array = CreateArray().createArray(howMany)\n",
    "print(Solution().AscSort(array))"
   ]
  },
  {
   "cell_type": "markdown",
   "metadata": {},
   "source": [
    "Find index"
   ]
  },
  {
   "cell_type": "code",
   "execution_count": 66,
   "metadata": {},
   "outputs": [
    {
     "name": "stdout",
     "output_type": "stream",
     "text": [
      "[9, 11, 12, 12, 17, 17, 28, 37, 39, 48, 53, 56]\n"
     ]
    },
    {
     "ename": "RecursionError",
     "evalue": "maximum recursion depth exceeded",
     "output_type": "error",
     "traceback": [
      "\u001b[1;31m---------------------------------------------------------------------------\u001b[0m",
      "\u001b[1;31mRecursionError\u001b[0m                            Traceback (most recent call last)",
      "\u001b[1;32mc:\\Users\\Mike\\OneDrive\\Documents\\Ivy Tech\\SDEV220\\Module 3\\M03 Tutorial\\M03_Tutorial_Assignments.ipynb Cell 5\u001b[0m line \u001b[0;36m7\n\u001b[0;32m      <a href='vscode-notebook-cell:/c%3A/Users/Mike/OneDrive/Documents/Ivy%20Tech/SDEV220/Module%203/M03%20Tutorial/M03_Tutorial_Assignments.ipynb#W4sZmlsZQ%3D%3D?line=4'>5</a>\u001b[0m \u001b[39mprint\u001b[39m(array)\n\u001b[0;32m      <a href='vscode-notebook-cell:/c%3A/Users/Mike/OneDrive/Documents/Ivy%20Tech/SDEV220/Module%203/M03%20Tutorial/M03_Tutorial_Assignments.ipynb#W4sZmlsZQ%3D%3D?line=5'>6</a>\u001b[0m indexToFind \u001b[39m=\u001b[39m \u001b[39mint\u001b[39m(\u001b[39minput\u001b[39m(\u001b[39m'\u001b[39m\u001b[39mWhat number in the list would you like me to find the index?: \u001b[39m\u001b[39m'\u001b[39m))\n\u001b[1;32m----> <a href='vscode-notebook-cell:/c%3A/Users/Mike/OneDrive/Documents/Ivy%20Tech/SDEV220/Module%203/M03%20Tutorial/M03_Tutorial_Assignments.ipynb#W4sZmlsZQ%3D%3D?line=6'>7</a>\u001b[0m Solution()\u001b[39m.\u001b[39;49mbinary_search(array, indexToFind)\n",
      "\u001b[1;32mc:\\Users\\Mike\\OneDrive\\Documents\\Ivy Tech\\SDEV220\\Module 3\\M03 Tutorial\\M03_Tutorial_Assignments.ipynb Cell 5\u001b[0m line \u001b[0;36m1\n\u001b[0;32m     <a href='vscode-notebook-cell:/c%3A/Users/Mike/OneDrive/Documents/Ivy%20Tech/SDEV220/Module%203/M03%20Tutorial/M03_Tutorial_Assignments.ipynb#W4sZmlsZQ%3D%3D?line=16'>17</a>\u001b[0m     \u001b[39mreturn\u001b[39;00m mid\n\u001b[0;32m     <a href='vscode-notebook-cell:/c%3A/Users/Mike/OneDrive/Documents/Ivy%20Tech/SDEV220/Module%203/M03%20Tutorial/M03_Tutorial_Assignments.ipynb#W4sZmlsZQ%3D%3D?line=17'>18</a>\u001b[0m \u001b[39melif\u001b[39;00m arr[mid] \u001b[39m>\u001b[39m key:\n\u001b[1;32m---> <a href='vscode-notebook-cell:/c%3A/Users/Mike/OneDrive/Documents/Ivy%20Tech/SDEV220/Module%203/M03%20Tutorial/M03_Tutorial_Assignments.ipynb#W4sZmlsZQ%3D%3D?line=18'>19</a>\u001b[0m     \u001b[39mreturn\u001b[39;00m \u001b[39mself\u001b[39;49m\u001b[39m.\u001b[39;49mbinary_search(arr[:mid], key)\n\u001b[0;32m     <a href='vscode-notebook-cell:/c%3A/Users/Mike/OneDrive/Documents/Ivy%20Tech/SDEV220/Module%203/M03%20Tutorial/M03_Tutorial_Assignments.ipynb#W4sZmlsZQ%3D%3D?line=19'>20</a>\u001b[0m \u001b[39melse\u001b[39;00m:\n\u001b[0;32m     <a href='vscode-notebook-cell:/c%3A/Users/Mike/OneDrive/Documents/Ivy%20Tech/SDEV220/Module%203/M03%20Tutorial/M03_Tutorial_Assignments.ipynb#W4sZmlsZQ%3D%3D?line=20'>21</a>\u001b[0m     \u001b[39mreturn\u001b[39;00m \u001b[39mself\u001b[39m\u001b[39m.\u001b[39mbinary_search(arr[mid:], key)\n",
      "\u001b[1;32mc:\\Users\\Mike\\OneDrive\\Documents\\Ivy Tech\\SDEV220\\Module 3\\M03 Tutorial\\M03_Tutorial_Assignments.ipynb Cell 5\u001b[0m line \u001b[0;36m2\n\u001b[0;32m     <a href='vscode-notebook-cell:/c%3A/Users/Mike/OneDrive/Documents/Ivy%20Tech/SDEV220/Module%203/M03%20Tutorial/M03_Tutorial_Assignments.ipynb#W4sZmlsZQ%3D%3D?line=18'>19</a>\u001b[0m         \u001b[39mreturn\u001b[39;00m \u001b[39mself\u001b[39m\u001b[39m.\u001b[39mbinary_search(arr[:mid], key)\n\u001b[0;32m     <a href='vscode-notebook-cell:/c%3A/Users/Mike/OneDrive/Documents/Ivy%20Tech/SDEV220/Module%203/M03%20Tutorial/M03_Tutorial_Assignments.ipynb#W4sZmlsZQ%3D%3D?line=19'>20</a>\u001b[0m     \u001b[39melse\u001b[39;00m:\n\u001b[1;32m---> <a href='vscode-notebook-cell:/c%3A/Users/Mike/OneDrive/Documents/Ivy%20Tech/SDEV220/Module%203/M03%20Tutorial/M03_Tutorial_Assignments.ipynb#W4sZmlsZQ%3D%3D?line=20'>21</a>\u001b[0m         \u001b[39mreturn\u001b[39;00m \u001b[39mself\u001b[39;49m\u001b[39m.\u001b[39;49mbinary_search(arr[mid:], key)\n\u001b[0;32m     <a href='vscode-notebook-cell:/c%3A/Users/Mike/OneDrive/Documents/Ivy%20Tech/SDEV220/Module%203/M03%20Tutorial/M03_Tutorial_Assignments.ipynb#W4sZmlsZQ%3D%3D?line=21'>22</a>\u001b[0m \u001b[39melse\u001b[39;00m:\n\u001b[0;32m     <a href='vscode-notebook-cell:/c%3A/Users/Mike/OneDrive/Documents/Ivy%20Tech/SDEV220/Module%203/M03%20Tutorial/M03_Tutorial_Assignments.ipynb#W4sZmlsZQ%3D%3D?line=22'>23</a>\u001b[0m     \u001b[39mreturn\u001b[39;00m \u001b[39m-\u001b[39m\u001b[39m1\u001b[39m\n",
      "\u001b[1;32mc:\\Users\\Mike\\OneDrive\\Documents\\Ivy Tech\\SDEV220\\Module 3\\M03 Tutorial\\M03_Tutorial_Assignments.ipynb Cell 5\u001b[0m line \u001b[0;36m2\n\u001b[0;32m     <a href='vscode-notebook-cell:/c%3A/Users/Mike/OneDrive/Documents/Ivy%20Tech/SDEV220/Module%203/M03%20Tutorial/M03_Tutorial_Assignments.ipynb#W4sZmlsZQ%3D%3D?line=18'>19</a>\u001b[0m         \u001b[39mreturn\u001b[39;00m \u001b[39mself\u001b[39m\u001b[39m.\u001b[39mbinary_search(arr[:mid], key)\n\u001b[0;32m     <a href='vscode-notebook-cell:/c%3A/Users/Mike/OneDrive/Documents/Ivy%20Tech/SDEV220/Module%203/M03%20Tutorial/M03_Tutorial_Assignments.ipynb#W4sZmlsZQ%3D%3D?line=19'>20</a>\u001b[0m     \u001b[39melse\u001b[39;00m:\n\u001b[1;32m---> <a href='vscode-notebook-cell:/c%3A/Users/Mike/OneDrive/Documents/Ivy%20Tech/SDEV220/Module%203/M03%20Tutorial/M03_Tutorial_Assignments.ipynb#W4sZmlsZQ%3D%3D?line=20'>21</a>\u001b[0m         \u001b[39mreturn\u001b[39;00m \u001b[39mself\u001b[39;49m\u001b[39m.\u001b[39;49mbinary_search(arr[mid:], key)\n\u001b[0;32m     <a href='vscode-notebook-cell:/c%3A/Users/Mike/OneDrive/Documents/Ivy%20Tech/SDEV220/Module%203/M03%20Tutorial/M03_Tutorial_Assignments.ipynb#W4sZmlsZQ%3D%3D?line=21'>22</a>\u001b[0m \u001b[39melse\u001b[39;00m:\n\u001b[0;32m     <a href='vscode-notebook-cell:/c%3A/Users/Mike/OneDrive/Documents/Ivy%20Tech/SDEV220/Module%203/M03%20Tutorial/M03_Tutorial_Assignments.ipynb#W4sZmlsZQ%3D%3D?line=22'>23</a>\u001b[0m     \u001b[39mreturn\u001b[39;00m \u001b[39m-\u001b[39m\u001b[39m1\u001b[39m\n",
      "    \u001b[1;31m[... skipping similar frames: Solution.binary_search at line 21 (2970 times)]\u001b[0m\n",
      "\u001b[1;32mc:\\Users\\Mike\\OneDrive\\Documents\\Ivy Tech\\SDEV220\\Module 3\\M03 Tutorial\\M03_Tutorial_Assignments.ipynb Cell 5\u001b[0m line \u001b[0;36m2\n\u001b[0;32m     <a href='vscode-notebook-cell:/c%3A/Users/Mike/OneDrive/Documents/Ivy%20Tech/SDEV220/Module%203/M03%20Tutorial/M03_Tutorial_Assignments.ipynb#W4sZmlsZQ%3D%3D?line=18'>19</a>\u001b[0m         \u001b[39mreturn\u001b[39;00m \u001b[39mself\u001b[39m\u001b[39m.\u001b[39mbinary_search(arr[:mid], key)\n\u001b[0;32m     <a href='vscode-notebook-cell:/c%3A/Users/Mike/OneDrive/Documents/Ivy%20Tech/SDEV220/Module%203/M03%20Tutorial/M03_Tutorial_Assignments.ipynb#W4sZmlsZQ%3D%3D?line=19'>20</a>\u001b[0m     \u001b[39melse\u001b[39;00m:\n\u001b[1;32m---> <a href='vscode-notebook-cell:/c%3A/Users/Mike/OneDrive/Documents/Ivy%20Tech/SDEV220/Module%203/M03%20Tutorial/M03_Tutorial_Assignments.ipynb#W4sZmlsZQ%3D%3D?line=20'>21</a>\u001b[0m         \u001b[39mreturn\u001b[39;00m \u001b[39mself\u001b[39;49m\u001b[39m.\u001b[39;49mbinary_search(arr[mid:], key)\n\u001b[0;32m     <a href='vscode-notebook-cell:/c%3A/Users/Mike/OneDrive/Documents/Ivy%20Tech/SDEV220/Module%203/M03%20Tutorial/M03_Tutorial_Assignments.ipynb#W4sZmlsZQ%3D%3D?line=21'>22</a>\u001b[0m \u001b[39melse\u001b[39;00m:\n\u001b[0;32m     <a href='vscode-notebook-cell:/c%3A/Users/Mike/OneDrive/Documents/Ivy%20Tech/SDEV220/Module%203/M03%20Tutorial/M03_Tutorial_Assignments.ipynb#W4sZmlsZQ%3D%3D?line=22'>23</a>\u001b[0m     \u001b[39mreturn\u001b[39;00m \u001b[39m-\u001b[39m\u001b[39m1\u001b[39m\n",
      "\u001b[1;31mRecursionError\u001b[0m: maximum recursion depth exceeded"
     ]
    }
   ],
   "source": [
    "howMany = int(input('How many numbers would you like?: '))\n",
    "highnum = int(input('What is the largest number you\\'d like in the list?: '))\n",
    "array = CreateArray().createArray(howMany,highnum=highnum)\n",
    "array = Solution().AscSort(array)\n",
    "print(array)\n",
    "indexToFind = int(input('What number in the list would you like me to find the index?: '))\n",
    "Solution().binary_search(array, indexToFind)\n"
   ]
  }
 ],
 "metadata": {
  "kernelspec": {
   "display_name": "Python 3",
   "language": "python",
   "name": "python3"
  },
  "language_info": {
   "codemirror_mode": {
    "name": "ipython",
    "version": 3
   },
   "file_extension": ".py",
   "mimetype": "text/x-python",
   "name": "python",
   "nbconvert_exporter": "python",
   "pygments_lexer": "ipython3",
   "version": "3.11.2"
  }
 },
 "nbformat": 4,
 "nbformat_minor": 2
}
