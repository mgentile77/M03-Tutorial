{
 "cells": [
  {
   "cell_type": "markdown",
   "metadata": {},
   "source": [
    "Michael Gentile\n",
    "Tutorial Assignment\n",
    "11/11/23\n",
    "F.Liu"
   ]
  },
  {
   "cell_type": "markdown",
   "metadata": {},
   "source": [
    "Sorting Arrays"
   ]
  },
  {
   "cell_type": "code",
   "execution_count": 5,
   "metadata": {},
   "outputs": [
    {
     "name": "stdout",
     "output_type": "stream",
     "text": [
      "[0, 1, 1, 2, 2, 2]\n"
     ]
    }
   ],
   "source": [
    "import random as ran\n",
    "\n",
    "def AscSort(x):\n",
    "    numberLst = []\n",
    "    for i in range(x):\n",
    "        numberLst.append(ran.randint(0,2))\n",
    "    numberLst.sort()\n",
    "    return numberLst\n",
    "\n",
    "howMany = int(input('How many numbers would you like?'))\n",
    "print(AscSort(howMany))"
   ]
  }
 ],
 "metadata": {
  "kernelspec": {
   "display_name": "Python 3",
   "language": "python",
   "name": "python3"
  },
  "language_info": {
   "codemirror_mode": {
    "name": "ipython",
    "version": 3
   },
   "file_extension": ".py",
   "mimetype": "text/x-python",
   "name": "python",
   "nbconvert_exporter": "python",
   "pygments_lexer": "ipython3",
   "version": "3.11.2"
  }
 },
 "nbformat": 4,
 "nbformat_minor": 2
}
